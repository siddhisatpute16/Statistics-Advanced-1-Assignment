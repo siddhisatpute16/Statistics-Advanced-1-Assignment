{
  "nbformat": 4,
  "nbformat_minor": 0,
  "metadata": {
    "colab": {
      "provenance": []
    },
    "kernelspec": {
      "name": "python3",
      "display_name": "Python 3"
    },
    "language_info": {
      "name": "python"
    }
  },
  "cells": [
    {
      "cell_type": "markdown",
      "source": [
        "#**Question 1: What is a random variable in probability theory?**\n",
        "\n",
        "#**Answer:**\n",
        "\n",
        "A random variable in probability theory is a numerical quantity whose value is determined by the outcome of a random experiment.\n",
        "\n",
        "It helps us quantify uncertainty and analyze probabilistic events using mathematics.\n",
        "\n",
        "There are two main types:\n",
        "\n",
        "---\n",
        "**1. Discrete random variable:**\n",
        "- Takes on a countable number of distinct values (often integers).\n",
        "\n",
        "- Example:\n",
        "\n",
        "  Tossing a coin 3 times: Let X be the number of heads. Possible values: X = 0, 1, 2, 3.\n",
        "\n",
        "---\n",
        "\n",
        "**2. Continuous random variable:**\n",
        "- Can take on any value within a given range or interval.\n",
        "\n",
        "- Example:\n",
        "\n",
        "  Let Z be the height of a randomly selected adult. Possible values: any real number within a range (e.g., 150 cm to 200 cm).\n",
        "\n",
        "---\n",
        "**Why Are Random Variables Useful?**\n",
        "\n",
        "They allow us to:\n",
        "\n",
        "- Calculate probabilities (e.g., P(X = 2))\n",
        "\n",
        "- Determine expected values (mean outcomes)\n",
        "\n",
        "- Analyze variance and standard deviation\n",
        "\n",
        "- Model real-world phenomena in statistics, economics, engineering, and more\n",
        "\n",
        "In essence, a random variable maps outcomes of a probabilistic process to numbers, allowing us to analyze and compute probabilities, expectations, variances, and other statistical properties.  \n",
        "\n"
      ],
      "metadata": {
        "id": "3CwiL6lI6kuw"
      }
    },
    {
      "cell_type": "markdown",
      "source": [
        "#**Question 2: What are the types of random variables?**\n",
        "\n",
        "#**Answer:**\n",
        "\n",
        "**Types of Random Variables**\n",
        "\n",
        "Random variables are classified based on the nature of the values they can take:\n",
        "\n",
        "---\n",
        "\n",
        "**1. Discrete Random Variable**\n",
        "\n",
        "- **Definition:**\n",
        "  \n",
        "  A random variable that can take on a finite or countably infinite set of distinct values.\n",
        "\n",
        "- **Values:**\n",
        "\n",
        "  Usually integers or whole numbers.\n",
        "\n",
        "- **Used for:**\n",
        "\n",
        "  Counting outcomes.\n",
        "\n",
        "\n",
        "**Examples:**\n",
        "\n",
        "- **Tossing a coin 3 times:** Let X be the number of heads. Possible values: X = 0, 1, 2, 3.\n",
        "\n",
        "- **Rolling a dice:** Let Y be the outcome. Possible values: Y = 1, 2, 3, 4, 5, 6.\n",
        "\n",
        "- Number of students absent in a class on a given day: {0, 1, 2, …}\n",
        "\n",
        "\n",
        "**Probability Distribution:**\n",
        "\n",
        "Represented using a probability mass function (PMF).\n",
        "\n",
        "---\n",
        "**2. Continuous Random Variable**\n",
        "\n",
        "- **Definition:**\n",
        "\n",
        "  A random variable that can take on any value within a given interval or range.\n",
        "\n",
        "- **Values:**\n",
        "\n",
        "  Real numbers, often within a continuous range.\n",
        "\n",
        "- **Used for:**\n",
        "\n",
        "  Measuring outcomes.\n",
        "\n",
        "**Examples:**\n",
        "\n",
        "- Let Z be the height of a randomly selected adult. Possible values: any real number within a range (e.g., 150 cm to 200 cm).\n",
        "\n",
        "- Time taken to run a race: Let T be the time in seconds. Possible values: any positive real number.\n",
        "\n",
        "\n",
        "**Probability Distribution:**\n",
        "\n",
        "Represented using a probability density function (PDF).\n",
        "\n",
        "---\n",
        "\n",
        "\n",
        "\n",
        "\n",
        "\n",
        "\n",
        "\n",
        "\n",
        "\n",
        "\n",
        "  \n",
        "\n",
        "\n",
        "\n",
        "\n",
        "\n",
        "\n",
        "\n"
      ],
      "metadata": {
        "id": "h8ae2kv9_sRI"
      }
    },
    {
      "cell_type": "markdown",
      "source": [
        "#**Question 3: Explain the difference between discrete and continuous distributions.**\n",
        "\n",
        "#**Answer:**\n",
        "\n",
        "**Discrete Distribution**\n",
        "\n",
        "- Deals with Discrete Random Variables.\n",
        "\n",
        "- Here Values are countable (finite or countably infinite).\n",
        "\n",
        "- Probability is assigned to each individual value.\n",
        "\n",
        "- Uses Probability Mass Function (PMF).\n",
        "\n",
        "- Example: Rolling a die → outcomes {1,2,3,4,5,6}.\n",
        "\n",
        "- Graph: Bar graph.\n",
        "\n",
        "---\n",
        "\n",
        "**Continuous Distribution**\n",
        "\n",
        "- Deals with Continuous Random Variables.\n",
        "\n",
        "- Here Values are uncountable (any value in an interval).\n",
        "\n",
        "- Probability at a single point = 0, only intervals matter.\n",
        "\n",
        "- Uses Probability Density Function (PDF).\n",
        "\n",
        "- Example: Height of a person (160.3 cm, 160.33 cm, … infinite).\n",
        "\n",
        "- Graph: Smooth curve.\n",
        "\n",
        "---\n",
        "**Comparison Table**\n",
        "\n",
        "| Feature                | Discrete Distribution                 | Continuous Distribution             |\n",
        "| ---------------------- | ------------------------------------- | ----------------------------------- |\n",
        "| Values                 | Countable (e.g., integers)            | Uncountable (real numbers in range) |\n",
        "| Probability form       | PMF (Probability Mass Function)       | PDF (Probability Density Function)  |\n",
        "| Probability at a point | Non-zero                              | Zero                                |\n",
        "| Graph type             | Bar graph                             | Smooth curve                        |\n",
        "| Examples               | Dice roll, coin toss, no. of students | Height, weight, time, temperature   |\n"
      ],
      "metadata": {
        "id": "g_LHdP1uB3mG"
      }
    },
    {
      "cell_type": "markdown",
      "source": [
        "#**Question 4: What is a binomial distribution, and how is it used in probability?**\n",
        "\n",
        "#**Answer:**\n",
        "\n",
        "A binomial distribution is a discrete probability distribution that models the number of successes in a fixed number of **independent Bernoulli trials**, where each trial has **only two possible outcomes: Success (probability p) or Failure (probability q = 1 - p).**\n",
        "\n",
        "---\n",
        "\n",
        "**Key Characteristics**\n",
        "\n",
        "- Fixed number of trials (n)\n",
        "\n",
        "- Constant probability of success (p) in each trial\n",
        "\n",
        "- Independent trials\n",
        "\n",
        "- Binary outcome: success (1) or failure (0)\n",
        "\n",
        "---\n",
        "**Probability Formula**\n",
        "\n",
        "The probability of getting exactly **k successes** in **n** trials is:\n",
        "\n",
        "\n",
        "\n",
        "\n",
        "\n",
        "\n",
        "\n"
      ],
      "metadata": {
        "id": "TXzXWp3rRZvU"
      }
    },
    {
      "cell_type": "code",
      "source": [
        "# Binomial Distribution Formula\n",
        "from IPython.display import Image\n",
        "Image('/content/Binomial distribution formula.png')"
      ],
      "metadata": {
        "colab": {
          "base_uri": "https://localhost:8080/",
          "height": 125
        },
        "id": "Z2cYsUCCWtAH",
        "outputId": "3934d25e-7beb-40ae-d48c-79bb18009cef"
      },
      "execution_count": null,
      "outputs": [
        {
          "output_type": "execute_result",
          "data": {
            "image/png": "[encoded data removed]",
            "text/plain": [
              "<IPython.core.display.Image object>"
            ]
          },
          "metadata": {},
          "execution_count": 6
        }
      ]
    },
    {
      "cell_type": "markdown",
      "source": [
        "Where,\n",
        "\n",
        "- P\t=\tbinomial probability\n",
        "\n",
        "- k = number of successes\n",
        "\n",
        "- {n \\ k}\t=\tn!/ k!(n - k)!\n",
        "\n",
        "- p = probability of success in each trial\n",
        "\n",
        "- q\t=\tprobability of failure in each trial\n",
        "\n",
        "- n\t=\tnumber of trials\n",
        "\n",
        "---\n",
        "\n",
        "**Uses in Probability**\n",
        "\n",
        "- To calculate chances of getting a certain number of successes in repeated experiments.\n",
        "\n",
        "- Examples:\n",
        "\n",
        "   - Probability of exactly 3 heads in 5 coin tosses.\n",
        "\n",
        "  - Number of defective items in a batch.\n",
        "\n",
        "  - Number of patients recovering when recovery chance is known.\n",
        "\n",
        "---\n",
        "\n",
        "**Example:**\n",
        "\n",
        "- Toss a coin 5 times.\n",
        "\n",
        "- Probability of getting exactly 3 heads:"
      ],
      "metadata": {
        "id": "rNc5l3IQXowV"
      }
    },
    {
      "cell_type": "code",
      "execution_count": null,
      "metadata": {
        "id": "4baYp4JU6T-x",
        "colab": {
          "base_uri": "https://localhost:8080/",
          "height": 110
        },
        "outputId": "39f3e23b-6045-45ab-d81e-45fd7182adc4"
      },
      "outputs": [
        {
          "output_type": "execute_result",
          "data": {
            "image/png": "[encoded data removed]",
            "text/plain": [
              "<IPython.core.display.Image object>"
            ]
          },
          "metadata": {},
          "execution_count": 7
        }
      ],
      "source": [
        "# Binomial Distribution Example\n",
        "from IPython.display import Image\n",
        "Image('/content/Binomial distribution example.png')"
      ]
    },
    {
      "cell_type": "markdown",
      "source": [
        "**In short:** The binomial distribution models **“success/failure”** type experiments repeated a fixed number of times, with constant probability of success."
      ],
      "metadata": {
        "id": "vh4DhQeoa0XC"
      }
    },
    {
      "cell_type": "markdown",
      "source": [
        "#**Question 5: What is the standard normal distribution, and why is it important?**\n",
        "\n",
        "#**Answer:**\n",
        "\n",
        "**Standard Normal Distribution**\n",
        "\n",
        "- The standard normal distribution is a special type of normal distribution where:\n",
        "\n",
        "   - `Mean (𝜇) = 0`\n",
        "\n",
        "   - `Standard deviation (𝜎) = 1`\n",
        "\n",
        "- Its probability curve is bell-shaped and symmetric around the mean.\n",
        "\n",
        "- Any normal distribution can be converted to the standard normal form using the z-score formula:"
      ],
      "metadata": {
        "id": "6X4riHuecDxT"
      }
    },
    {
      "cell_type": "code",
      "source": [
        "# z-score formula\n",
        "from IPython.display import Image\n",
        "Image('/content/z score formula.png')"
      ],
      "metadata": {
        "colab": {
          "base_uri": "https://localhost:8080/",
          "height": 99
        },
        "id": "8vOZtjFKdi1m",
        "outputId": "3563e78d-1f2b-4d4a-bb2d-82e441d30a69"
      },
      "execution_count": null,
      "outputs": [
        {
          "output_type": "execute_result",
          "data": {
            "image/png": "[encoded data removed]",
            "text/plain": [
              "<IPython.core.display.Image object>"
            ]
          },
          "metadata": {},
          "execution_count": 8
        }
      ]
    },
    {
      "cell_type": "markdown",
      "source": [
        "where,\n",
        "\n",
        "- 𝑋 is a value from the distribution,\n",
        "\n",
        "- 𝜇 is the mean, and\n",
        "\n",
        "- 𝜎 is the standard deviation.\n",
        "\n",
        "The variable that follows this distribution is called the **Standard normal variable (Z)**, and values are often referred to as **z-scores**.\n",
        "\n",
        "---\n",
        "**Why it is important?**\n",
        "\n",
        "-  **Universal reference:** Any normal distribution can be converted to the standard normal using a Z-score formula.\n",
        "\n",
        "- **Simplifies calculations:** Probabilities can be calculated using Z-tables.\n",
        "\n",
        "- **Comparison:** Enables comparison of scores from different normal distributions on a common scale.\n",
        "\n",
        "- **Statistics applications:** Used in hypothesis testing, confidence intervals, quality control, and other statistical analyses.\n",
        "\n",
        "---\n",
        "**In short:**\n",
        "\n",
        "The standard normal distribution is a normalized normal distribution that makes probability calculations and comparisons easier across different datasets."
      ],
      "metadata": {
        "id": "hcEJzfaGdttW"
      }
    },
    {
      "cell_type": "markdown",
      "source": [
        "#**Question 6: What is the Central Limit Theorem (CLT), and why is it critical in statistics?**\n",
        "\n",
        "#**Answer:**\n",
        "\n",
        "**The Central Limit Theorem (CLT)** is one of the most powerful and foundational concepts in statistics.\n",
        "\n",
        "It states that:\n",
        "\n",
        "***When you take a large enough sample size from any population—regardless of its original distribution—the distribution of the sample mean will approximate a normal distribution.***\n",
        "\n",
        "---\n",
        "\n",
        "**Key points:**\n",
        "\n",
        "- Works for any population distribution (not just normal).\n",
        "\n",
        "- The mean of the sampling distribution = population mean (𝜇).\n",
        "\n",
        "- `Standard deviation of the sample mean = 𝜎 / √𝑛 `\n",
        "\n",
        "where,\n",
        "\n",
        "- 𝜎 is the standard deviation of the population.\n",
        "\n",
        "- It measures how spread out the values in the population are.\n",
        "\n",
        "- 𝑛 = sample size.\n",
        "\n",
        "- Dividing by √𝑛 adjusts for the fact that the sample mean varies less than individual values — larger samples give more precise estimates.\n",
        "\n",
        "---\n",
        "**Importance in Statistics**\n",
        "\n",
        "- **Justifies normal approximation:** Even if the population is not normal, the sample mean distribution can be treated as normal for large\n",
        "𝑛.\n",
        "\n",
        "- **Probability calculations:** Allows use of Z-scores and confidence intervals.\n",
        "\n",
        "- **Hypothesis testing:** Forms the theoretical foundation for many inferential statistics methods.\n",
        "\n",
        "---\n",
        "**In short:**\n",
        "\n",
        "The CLT enables statisticians to use normal distribution tools for large sample means, making probability calculations and statistical inference possible, even when the original data is not normal.\n",
        "\n"
      ],
      "metadata": {
        "id": "laTFPnVtfCoz"
      }
    },
    {
      "cell_type": "markdown",
      "source": [
        "#**Question 7: What is the significance of confidence intervals in statistical analysis?**\n",
        "\n",
        "#**Answer:**\n",
        "\n",
        "**Confidence Intervals (CI)**\n",
        "\n",
        "- A confidence interval is a range of values, derived from sample data, that is likely to contain the true population parameter (like mean or proportion) with a certain level of confidence (e.g., 95%).\n",
        "\n",
        "- General form for a mean:"
      ],
      "metadata": {
        "id": "YREIUpRiibWN"
      }
    },
    {
      "cell_type": "code",
      "source": [
        "from IPython.display import Image\n",
        "Image('/content/CI formula.png')"
      ],
      "metadata": {
        "colab": {
          "base_uri": "https://localhost:8080/",
          "height": 104
        },
        "id": "ANWpljbkjRlF",
        "outputId": "df620407-4fcb-47c8-b75f-03c4c9eb62c0"
      },
      "execution_count": null,
      "outputs": [
        {
          "output_type": "execute_result",
          "data": {
            "image/png": "[encoded data removed]",
            "text/plain": [
              "<IPython.core.display.Image object>"
            ]
          },
          "metadata": {},
          "execution_count": 9
        }
      ]
    },
    {
      "cell_type": "markdown",
      "source": [
        "where,\n",
        "\n",
        "- x̄ = sample mean\n",
        "\n",
        "- 𝑍 = Z-score corresponding to confidence level\n",
        "\n",
        "- 𝜎 = population standard deviation\n",
        "\n",
        "- 𝑛 = sample size\n",
        "\n",
        "---\n",
        "**Significance in Statistical Analysis**\n",
        "\n",
        "-  Provides an Estimate with Precision : Instead of giving just a single point estimate (e.g., sample mean = 50), a\n",
        "CI gives a range (e.g., 47 to 53) showing the possible values of the\n",
        "population parameter.\n",
        "\n",
        "- Quantifies uncertainty: Shows how precise the estimate is.\n",
        "\n",
        "- Supports decision-making: Helps in hypothesis testing and drawing conclusions about populations.\n",
        "\n",
        "- Communicates reliability: A 95% CI means that if we repeated the sampling many times, 95% of the intervals would contain the true mean.\n",
        "\n",
        "---\n",
        "In short:\n",
        "\n",
        "Confidence intervals give a reliable range for population parameters, reflecting uncertainty and helping make informed decisions in statistics."
      ],
      "metadata": {
        "id": "XCm9oAvNjqMU"
      }
    },
    {
      "cell_type": "markdown",
      "source": [
        "#**Question 8: What is the concept of expected value in a probability distribution?**\n",
        "\n",
        "#**Answer:**\n",
        "\n",
        "**Expected Value (EV)**\n",
        "\n",
        "- The expected value of a random variable is the long-run average or mean value you would expect if an experiment were repeated many times.\n",
        "\n",
        "- It is also called the **mean of the probability distribution**.\n",
        "\n",
        "---\n",
        "**Formula**\n",
        "\n",
        "1. Discrete random variable 𝑋:"
      ],
      "metadata": {
        "id": "qaozz5O3pEaY"
      }
    },
    {
      "cell_type": "code",
      "source": [
        "from IPython.display import Image\n",
        "Image('/content/EV discrete.png')"
      ],
      "metadata": {
        "colab": {
          "base_uri": "https://localhost:8080/",
          "height": 87
        },
        "id": "NQMSVhcAq5kv",
        "outputId": "8ea2ab93-0b33-467d-960f-b4d86ea3068d"
      },
      "execution_count": null,
      "outputs": [
        {
          "output_type": "execute_result",
          "data": {
            "image/png": "[encoded data removed]",
            "text/plain": [
              "<IPython.core.display.Image object>"
            ]
          },
          "metadata": {},
          "execution_count": 10
        }
      ]
    },
    {
      "cell_type": "markdown",
      "source": [
        "- 𝑥𝑖 = possible outcomes\n",
        "\n",
        "- 𝑃(𝑋=𝑥𝑖) = probability of each outcome\n",
        "\n",
        "---\n",
        "\n",
        "2. Continuous random variable 𝑋:\n"
      ],
      "metadata": {
        "id": "6HmfNbq-rDOa"
      }
    },
    {
      "cell_type": "code",
      "source": [
        "from IPython.display import Image\n",
        "Image('/content/EV continuos.png')"
      ],
      "metadata": {
        "colab": {
          "base_uri": "https://localhost:8080/",
          "height": 110
        },
        "id": "QaX9c__0sAiq",
        "outputId": "5c417ec3-a049-4d3a-d95a-6a71e344ec7f"
      },
      "execution_count": null,
      "outputs": [
        {
          "output_type": "execute_result",
          "data": {
            "image/png": "[encoded data removed]",
            "text/plain": [
              "<IPython.core.display.Image object>"
            ]
          },
          "metadata": {},
          "execution_count": 11
        }
      ]
    },
    {
      "cell_type": "markdown",
      "source": [
        "- f(x) = probability density function\n",
        "\n",
        "---\n",
        "**Significance**\n",
        "\n",
        "- Represents the average outcome in the long run.\n",
        "\n",
        "- Helps in decision-making under uncertainty.\n",
        "\n",
        "- Forms the basis for other measures like variance and standard deviation.\n",
        "\n",
        "---\n",
        "**Example:**\n",
        "\n",
        "Toss a fair die once:\n",
        "\n",
        "`E(X)= (1 + 2 + 3 + 4 + 5 + 6) / 6  = 3.5 `\n",
        "\n",
        "**Meaning:** On average, the outcome is 3.5 if we roll the die many times.\n"
      ],
      "metadata": {
        "id": "is-PLH4us3ZX"
      }
    },
    {
      "cell_type": "markdown",
      "source": [
        "#**Question 9: Write a Python program to generate 1000 random numbers from a normal distribution with mean = 50 and standard deviation = 5. Compute its mean and standard deviation using NumPy, and draw a histogram to visualize the distribution.**"
      ],
      "metadata": {
        "id": "Dfgd1WQnt9cH"
      }
    },
    {
      "cell_type": "code",
      "source": [
        "# Import necessary libraries\n",
        "import numpy as np\n",
        "import matplotlib.pyplot as plt\n",
        "\n",
        "# Set parameters\n",
        "mean = 50\n",
        "std_dev = 5\n",
        "sample_size = 1000\n",
        "\n",
        "# Generate 1000 random numbers from a normal distribution\n",
        "data = np.random.normal(mean, std_dev, sample_size)\n",
        "\n",
        "# Compute mean and standard deviation\n",
        "calculated_mean = np.mean(data)\n",
        "calculated_std = np.std(data)\n",
        "\n",
        "print(f\"Calculated Mean: {calculated_mean:.2f}\")\n",
        "print(f\"Calculated Standard Deviation: {calculated_std:.2f}\")\n",
        "\n",
        "# Plot histogram\n",
        "plt.figure(figsize=(8,5))\n",
        "plt.hist(data, bins=30, edgecolor='black', color='skyblue')\n",
        "plt.title(\"Histogram of Normally Distributed Data\")\n",
        "plt.xlabel(\"Value\")\n",
        "plt.ylabel(\"Frequency\")\n",
        "plt.grid(True)\n",
        "plt.show()\n"
      ],
      "metadata": {
        "colab": {
          "base_uri": "https://localhost:8080/",
          "height": 522
        },
        "id": "HyoMISvyVRzv",
        "outputId": "41312eb1-0f55-417c-8510-e36467543099"
      },
      "execution_count": 5,
      "outputs": [
        {
          "output_type": "stream",
          "name": "stdout",
          "text": [
            "Calculated Mean: 49.92\n",
            "Calculated Standard Deviation: 5.04\n"
          ]
        },
        {
          "output_type": "display_data",
          "data": {
            "text/plain": [
              "<Figure size 800x500 with 1 Axes>"
            ],
            "image/png": "[encoded data removed]"
          },
          "metadata": {}
        }
      ]
    },
    {
      "cell_type": "markdown",
      "source": [
        "#**Question 10: You are working as a data analyst for a retail company. The company has collected daily sales data for 2 years and wants you to identify the overall sales trend.**\n",
        "\n",
        "**daily_sales = [220, 245, 210, 265, 230, 250, 260, 275, 240, 255,235, 260, 245, 250, 225, 270, 265, 255, 250, 260]**\n",
        "\n",
        "**● Explain how you would apply the Central Limit Theorem to estimate the average sales with a 95% confidence interval.**\n",
        "\n",
        "**● Write the Python code to compute the mean sales and its confidence interval.**\n",
        "\n",
        "---\n",
        "\n",
        "\n",
        "**- Applying Central Limit Theorem (CLT)**\n",
        "\n",
        "1. The Central Limit Theorem (CLT) says that if we take repeated samples from a population, the distribution of the sample mean will be approximately normal (even if the data itself isn’t perfectly normal), especially for large samples.\n",
        "\n",
        "2. In this case:\n",
        "\n",
        "- We have daily sales data for 2 years. For illustration, only 20 daily sales values are given.\n",
        "\n",
        "- The sample mean will be used as an estimate of the true population mean.\n",
        "\n",
        "- To compute a 95% confidence interval (CI) for the mean:"
      ],
      "metadata": {
        "id": "zCeV5GpMUloU"
      }
    },
    {
      "cell_type": "code",
      "source": [
        "from IPython.display import Image\n",
        "Image('/CLT.png')\n",
        ""
      ],
      "metadata": {
        "colab": {
          "base_uri": "https://localhost:8080/",
          "height": 83
        },
        "id": "_he8TPpyUzdS",
        "outputId": "3b634de6-e20d-4fcd-c01f-f4fa35848de3"
      },
      "execution_count": 6,
      "outputs": [
        {
          "output_type": "execute_result",
          "data": {
            "image/png": "[encoded data removed]",
            "text/plain": [
              "<IPython.core.display.Image object>"
            ]
          },
          "metadata": {},
          "execution_count": 6
        }
      ]
    },
    {
      "cell_type": "markdown",
      "source": [
        "Where:\n",
        "\n",
        "x̄= sample mean\n",
        "\n",
        "𝑠 = sample standard deviation\n",
        "\n",
        "𝑛 = sample size\n",
        "\n",
        "𝑍 = 1.96 for 95% confidence\n",
        "\n",
        "---\n",
        "**-  Python Code**"
      ],
      "metadata": {
        "id": "N08qyNRfZJxZ"
      }
    },
    {
      "cell_type": "code",
      "source": [
        "import numpy as np\n",
        "import scipy.stats as stats\n",
        "\n",
        "# Given daily sales data\n",
        "daily_sales = [220, 245, 210, 265, 230, 250, 260, 275,\n",
        "               240, 255, 235, 260, 245, 250, 225, 270,\n",
        "               265, 255, 250, 260]\n",
        "\n",
        "# Convert to numpy array\n",
        "data = np.array(daily_sales)\n",
        "\n",
        "# Calculate mean and standard deviation\n",
        "mean_sales = np.mean(data)\n",
        "std_sales = np.std(data, ddof=1)  # sample standard deviation\n",
        "n = len(data)\n",
        "\n",
        "# Standard error\n",
        "se = std_sales / np.sqrt(n)\n",
        "\n",
        "# 95% confidence interval using CLT\n",
        "confidence = 0.95\n",
        "z_score = stats.norm.ppf(1 - (1-confidence)/2)  # 1.96\n",
        "margin_of_error = z_score * se\n",
        "ci_lower = mean_sales - margin_of_error\n",
        "ci_upper = mean_sales + margin_of_error\n",
        "\n",
        "print(f\"Mean Sales: {mean_sales:.2f}\")\n",
        "print(f\"95% Confidence Interval: ({ci_lower:.2f}, {ci_upper:.2f})\")\n"
      ],
      "metadata": {
        "colab": {
          "base_uri": "https://localhost:8080/"
        },
        "id": "AN9WIKgPZatH",
        "outputId": "165d929a-2e38-4f2f-ad3d-2d37aedbc27f"
      },
      "execution_count": 10,
      "outputs": [
        {
          "output_type": "stream",
          "name": "stdout",
          "text": [
            "Mean Sales: 248.25\n",
            "95% Confidence Interval: (240.68, 255.82)\n"
          ]
        }
      ]
    },
    {
      "cell_type": "markdown",
      "source": [
        "This will output:\n",
        "\n",
        "- The mean daily sales.\n",
        "\n",
        "- The 95% confidence interval, telling us the range in which the true average daily sales likely falls."
      ],
      "metadata": {
        "id": "8pqglpffaJtd"
      }
    }
  ]
}